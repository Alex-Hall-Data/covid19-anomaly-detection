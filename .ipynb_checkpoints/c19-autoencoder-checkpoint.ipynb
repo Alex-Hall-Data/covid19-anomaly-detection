{
 "cells": [
  {
   "cell_type": "markdown",
   "metadata": {},
   "source": [
    "This script uses a training set of x-rays for C19 negative patients. The images are used to train up an autoencoder which attempts to encode and then reconstruct the input. The aim is to present it with a test set comprising a mixture of C19 positive and negative images. If the trained autoencoder generally has a higher reconstruction error on the C19 positive images, it will be essentially flagging these as anomalous and differentiating them from the negative images."
   ]
  },
  {
   "cell_type": "markdown",
   "metadata": {},
   "source": [
    "## Importing libraries and defining global variables"
   ]
  },
  {
   "cell_type": "code",
   "execution_count": 10,
   "metadata": {},
   "outputs": [],
   "source": [
    "import keras\n",
    "from keras.layers import Input, Dense, Conv2D, MaxPooling2D, UpSampling2D,Flatten,Reshape,LeakyReLU\n",
    "from keras.models import Model\n",
    "from matplotlib import pyplot as plt\n",
    "import numpy as np\n",
    "import random\n",
    "import os\n",
    "from keras.callbacks import TensorBoard\n",
    "\n",
    "BATCH_SIZE=16\n",
    "LEARNING_RATE=0.0001\n",
    "NUM_EPOCHS=20\n",
    "MAIN_ACTIVATION_FN = LeakyReLU()\n",
    "X_SIZE=256#236#124\n",
    "Y_SIZE=256#188#92\n",
    "SRC_DIR=\"C:\\\\Users\\\\ahall\\\\Documents\\\\datasets\\\\covid19-radiography-database\\\\COVID-19 Radiography Database\""
   ]
  },
  {
   "cell_type": "markdown",
   "metadata": {},
   "source": [
    "## Creating an input stream\n",
    "This function uses the keras data generator method to build a stream of input images from a folder of raw images. Additional preprocessing may be added at a later stage.\n",
    "\n",
    "For now, a training and testing set is created. However, it will probably be necessary to test with a 'test positive' and 'test_negative' set.\n"
   ]
  },
  {
   "cell_type": "code",
   "execution_count": 11,
   "metadata": {},
   "outputs": [
    {
     "name": "stdout",
     "output_type": "stream",
     "text": [
      "Found 1236 images belonging to 1 classes.\n",
      "Found 219 images belonging to 1 classes.\n",
      "Found 105 images belonging to 1 classes.\n"
     ]
    }
   ],
   "source": [
    "def build_data_generator(phase,x_size,y_size,batch_size,shf):\n",
    "    datagen = keras.preprocessing.image.ImageDataGenerator(rescale=1./255)\n",
    "    data_generator = datagen.flow_from_directory(\n",
    "    directory=os.path.join(SRC_DIR,phase),\n",
    "    target_size=(y_size, x_size),\n",
    "    color_mode=\"grayscale\",\n",
    "    batch_size=batch_size,\n",
    "    class_mode=\"input\",\n",
    "    shuffle=shf,\n",
    "    seed=42)\n",
    "    \n",
    "    return data_generator\n",
    "\n",
    "train_generator = build_data_generator(\"train_negative\",X_SIZE,Y_SIZE,BATCH_SIZE,True)\n",
    "test_positive_generator = build_data_generator(\"test_positive\",X_SIZE,Y_SIZE,1,False)\n",
    "test_negative_generator = build_data_generator(\"test_negative\",X_SIZE,Y_SIZE,1,False)\n"
   ]
  },
  {
   "cell_type": "markdown",
   "metadata": {},
   "source": [
    "## Building the autoencoder\n",
    "Here the architecture of the autoencoder is defined. We start with the input image and through repeated convolutional layers and pooling layers, we transform it into a one-dimensional vector. This is fed into a number of fully connected hidden layers before being reconstructed into the 'decoded' image at the end. A perfect autoencoder would take the input and be able to reconstruct it with 100% accuracy. Ours will be trained to reconstruct covid-negative images. So, if covid-positive images have unique features that can be sufficiently distinguished, it will not be ableto reconstruct them as accurately as the negative images."
   ]
  },
  {
   "cell_type": "code",
   "execution_count": 12,
   "metadata": {},
   "outputs": [],
   "source": [
    "input_img = Input(shape=(Y_SIZE, X_SIZE, 1))\n",
    "\n",
    "x = Conv2D(2, (2, 2), padding='same')(input_img)\n",
    "x=MAIN_ACTIVATION_FN(x)\n",
    "x = Conv2D(4, (2, 2), padding='same')(input_img)\n",
    "x=MAIN_ACTIVATION_FN(x)\n",
    "x = MaxPooling2D((2, 2), padding='same')(x)\n",
    "x = Conv2D(8, (2, 2), padding='same')(x)\n",
    "x=MAIN_ACTIVATION_FN(x)\n",
    "x = Conv2D(16, (2, 2),  padding='same')(x)\n",
    "x=MAIN_ACTIVATION_FN(x)\n",
    "x = MaxPooling2D((2, 2), padding='same')(x)\n",
    "x = Conv2D(32, (2, 2),  padding='same')(x)\n",
    "x=MAIN_ACTIVATION_FN(x)\n",
    "x= MaxPooling2D((2, 2), padding='same')(x)\n",
    "x = Conv2D(64, (2, 2), padding='same')(x)\n",
    "x=MAIN_ACTIVATION_FN(x)\n",
    "x= MaxPooling2D((2, 2), padding='same')(x)\n",
    "x = Conv2D(128, (2, 2), padding='same')(x)\n",
    "x=MAIN_ACTIVATION_FN(x)\n",
    "x= MaxPooling2D((2, 2), padding='same')(x)\n",
    "x = Conv2D(256, (2, 2),  padding='same')(x)\n",
    "x=MAIN_ACTIVATION_FN(x)\n",
    "#x = Conv2D(256, (2, 2), activation='relu', padding='same')(x)\n",
    "x= MaxPooling2D((2, 2), padding='same')(x)\n",
    "x = Conv2D(512, (2, 2),  padding='same')(x)\n",
    "x=MAIN_ACTIVATION_FN(x)\n",
    "#x = Conv2D(512, (2, 2), activation='relu', padding='same')(x)\n",
    "x= MaxPooling2D((2, 2), padding='same')(x)\n",
    "x = Conv2D(2048, (2, 2),  padding='same')(x)\n",
    "x=MAIN_ACTIVATION_FN(x)\n",
    "#x = Conv2D(2048, (2, 2), activation='relu', padding='same')(x)\n",
    "\n",
    "encoded = MaxPooling2D((2, 2))(x) \n",
    "encoded = Flatten()(encoded)\n",
    "\n",
    "#the representation is now 1x1x2048\n",
    "\n",
    "#fully connected layer\n",
    "x=Dense(2048)(encoded)\n",
    "x=Reshape((1,1,2048))(x)\n",
    "\n",
    "\n",
    "\n",
    "x = Conv2D(2048, (2, 2), padding='same')(x)\n",
    "x=MAIN_ACTIVATION_FN(x)\n",
    "#x = Conv2D(2048, (2, 2), activation='relu', padding='same')(x)\n",
    "x = UpSampling2D((2, 2))(x)\n",
    "x = Conv2D(512, (2, 2),  padding='same')(x)\n",
    "x=MAIN_ACTIVATION_FN(x)\n",
    "#x = Conv2D(512, (2, 2), activation='relu', padding='same')(x)\n",
    "x = UpSampling2D((2, 2))(x)\n",
    "x = Conv2D(256, (2, 2),  padding='same')(x)\n",
    "x=MAIN_ACTIVATION_FN(x)\n",
    "#x = Conv2D(256, (2, 2), activation='relu', padding='same')(x)\n",
    "x = UpSampling2D((2, 2))(x)\n",
    "x = Conv2D(128, (2, 2),  padding='same')(x)\n",
    "x=MAIN_ACTIVATION_FN(x)\n",
    "x = UpSampling2D((2, 2))(x)\n",
    "x = Conv2D(64, (2, 2),  padding='same')(x) \n",
    "x=MAIN_ACTIVATION_FN(x)\n",
    "x = UpSampling2D((2, 2))(x)\n",
    "x = Conv2D(32, (2, 2),  padding='same')(x)\n",
    "x=MAIN_ACTIVATION_FN(x)\n",
    "x = Conv2D(16, (2, 2),  padding='same')(x)\n",
    "x=MAIN_ACTIVATION_FN(x)\n",
    "x = UpSampling2D((2, 2))(x)\n",
    "x = Conv2D(8, (2, 2),  padding='same')(x)\n",
    "x=MAIN_ACTIVATION_FN(x)\n",
    "x = Conv2D(4, (2, 2),  padding='same')(x)\n",
    "x=MAIN_ACTIVATION_FN(x)\n",
    "x = UpSampling2D((2, 2))(x)\n",
    "x = Conv2D(2, (2, 2), padding='same')(x)\n",
    "x=MAIN_ACTIVATION_FN(x)\n",
    "x = UpSampling2D((2, 2))(x)\n",
    "decoded = Conv2D(1, (2, 2), activation='sigmoid', padding='same')(x)\n",
    "\n",
    "opt =keras.optimizers.Adam(lr=LEARNING_RATE, beta_1=0.9, beta_2=0.999, epsilon=None, decay=0.0, amsgrad=False)\n",
    "#opt=keras.optimizers.Adadelta(lr=1.0, rho=0.95, epsilon=None, decay=0.0)\n",
    "#opt=keras.optimizers.SGD(lr=LEARNING_RATE, momentum=0.0, decay=0.05, nesterov=False)\n",
    "\n",
    "autoencoder = Model(input_img, decoded)\n",
    "encoder = Model(input_img,encoded)\n",
    "autoencoder.compile(optimizer=opt, loss='binary_crossentropy')"
   ]
  },
  {
   "cell_type": "markdown",
   "metadata": {},
   "source": [
    "## Training the autoencoder\n",
    "Here we introduce the training set of covid negative images to the autoencoder network. The training process should create a network able to reconstruct its input with reasonable accuracy. "
   ]
  },
  {
   "cell_type": "code",
   "execution_count": 13,
   "metadata": {},
   "outputs": [
    {
     "name": "stdout",
     "output_type": "stream",
     "text": [
      "Epoch 1/20\n",
      "77/77 [==============================] - 328s 4s/step - loss: 0.6544 - val_loss: 0.6236\n",
      "Epoch 2/20\n",
      "77/77 [==============================] - 261s 3s/step - loss: 0.6193 - val_loss: 0.6188\n",
      "Epoch 3/20\n",
      "77/77 [==============================] - 265s 3s/step - loss: 0.6135 - val_loss: 0.6125\n",
      "Epoch 4/20\n",
      "77/77 [==============================] - 289s 4s/step - loss: 0.6096 - val_loss: 0.6071\n",
      "Epoch 5/20\n",
      "77/77 [==============================] - 356s 5s/step - loss: 0.6046 - val_loss: 0.6027\n",
      "Epoch 6/20\n",
      "77/77 [==============================] - 264s 3s/step - loss: 0.5998 - val_loss: 0.5996\n",
      "Epoch 7/20\n",
      "77/77 [==============================] - 260s 3s/step - loss: 0.5965 - val_loss: 0.5977\n",
      "Epoch 8/20\n",
      "77/77 [==============================] - 260s 3s/step - loss: 0.5970 - val_loss: 0.5965\n",
      "Epoch 9/20\n",
      "77/77 [==============================] - 259s 3s/step - loss: 0.5951 - val_loss: 0.5966\n",
      "Epoch 10/20\n",
      "77/77 [==============================] - 274s 4s/step - loss: 0.5941 - val_loss: 0.5945\n",
      "Epoch 11/20\n",
      "77/77 [==============================] - 260s 3s/step - loss: 0.5932 - val_loss: 0.5937\n",
      "Epoch 12/20\n",
      "77/77 [==============================] - 261s 3s/step - loss: 0.5920 - val_loss: 0.5915\n",
      "Epoch 13/20\n",
      "77/77 [==============================] - 256s 3s/step - loss: 0.5887 - val_loss: 0.5900\n",
      "Epoch 14/20\n",
      "77/77 [==============================] - 261s 3s/step - loss: 0.5881 - val_loss: 0.5889\n",
      "Epoch 15/20\n",
      "77/77 [==============================] - 256s 3s/step - loss: 0.5857 - val_loss: 0.5870\n",
      "Epoch 16/20\n",
      "77/77 [==============================] - 261s 3s/step - loss: 0.5853 - val_loss: 0.5864\n",
      "Epoch 17/20\n",
      "77/77 [==============================] - 299s 4s/step - loss: 0.5839 - val_loss: 0.5861\n",
      "Epoch 18/20\n",
      "77/77 [==============================] - 325s 4s/step - loss: 0.5840 - val_loss: 0.5848\n",
      "Epoch 19/20\n",
      "77/77 [==============================] - 268s 3s/step - loss: 0.5831 - val_loss: 0.5861\n",
      "Epoch 20/20\n",
      "77/77 [==============================] - 273s 4s/step - loss: 0.5819 - val_loss: 0.5834\n"
     ]
    }
   ],
   "source": [
    "STEP_SIZE_TRAIN=train_generator.n//train_generator.batch_size\n",
    "STEP_SIZE_NEGATIVE_TEST=test_negative_generator.n//test_negative_generator.batch_size\n",
    "STEP_SIZE_POSITIVE_TEST=test_positive_generator.n//test_positive_generator.batch_size\n",
    "\n",
    "autoencoder.fit_generator(generator=train_generator,\n",
    "                    steps_per_epoch=STEP_SIZE_TRAIN,\n",
    "                    validation_data=test_negative_generator,\n",
    "                    validation_steps=STEP_SIZE_NEGATIVE_TEST,\n",
    "                    epochs=NUM_EPOCHS,\n",
    "                    callbacks=[TensorBoard(log_dir='C:\\\\Users\\\\ahall\\\\Documents\\\\projects\\\\c19-anomaly-detection\\\\tensorboard_logs')]\n",
    ")\n",
    "\n",
    "autoencoder.save (\"flattening_autoencoder.h5\")"
   ]
  },
  {
   "cell_type": "markdown",
   "metadata": {},
   "source": [
    "## Testing the autoencoder\n",
    "Here we allow the autoencoder to encode and reconstruct test set images. We feed a test set of covid positive images and measure the RMSE between the input and reconstructed images. We hope to see a higher MSE for the covid positive images.\n",
    "\n",
    "The current method of iterating over the predictions and calculating MSE is not particularly efficient, it was necessitated by the fact that the prediction method introduces extra dimensions to the result. This section could therefor ebe cleaned up if we get the time."
   ]
  },
  {
   "cell_type": "code",
   "execution_count": null,
   "metadata": {},
   "outputs": [],
   "source": [
    "positive_predictions = autoencoder.predict_generator(generator=test_positive_generator, steps=STEP_SIZE_POSITIVE_TEST)\n",
    "negative_predictions = autoencoder.predict_generator(generator=test_negative_generator, steps=STEP_SIZE_NEGATIVE_TEST)\n"
   ]
  },
  {
   "cell_type": "code",
   "execution_count": 43,
   "metadata": {},
   "outputs": [],
   "source": [
    "import cv2 \n",
    "positive_mse_list = []\n",
    "negative_mse_list = []\n",
    "\n",
    "#refactor these later\n",
    "for i in range(len(test_positive_generator)):\n",
    "    p_mse = (np.square(test_positive_generator[i][0][0] - positive_predictions[i])).mean(axis=None)\n",
    "    positive_mse_list.append(p_mse)\n",
    "\n",
    "for i in range(len(test_negative_generator)):\n",
    "    n_mse = (np.square(test_negative_generator[i][0][0] - negative_predictions[i])).mean(axis=None)\n",
    "    negative_mse_list.append(n_mse)\n",
    "\n"
   ]
  },
  {
   "cell_type": "markdown",
   "metadata": {},
   "source": [
    "## Plotting the results\n",
    "These plots do seem to show some distinction between the positive and negative cases, however it is far too early to draw conclusions. For this trial dataset, there were twice as many positive test cases so we may be seeing the effect of more outliers. Further statistical validation will be necessary, with a far larger dataset."
   ]
  },
  {
   "cell_type": "code",
   "execution_count": 57,
   "metadata": {},
   "outputs": [
    {
     "data": {
      "image/png": "[encoded data removed]",
      "text/plain": [
       "<Figure size 720x640 with 1 Axes>"
      ]
     },
     "metadata": {},
     "output_type": "display_data"
    }
   ],
   "source": [
    "%matplotlib inline\n",
    "\n",
    "fig=plt.figure(figsize=(9, 8), dpi= 80, facecolor='w', edgecolor='k')\n",
    "pos=plt.scatter(positive_mse_list, np.ones_like(positive_mse_list), c='b')\n",
    "neg=plt.scatter(negative_mse_list, np.zeros_like(negative_mse_list), c='r')\n",
    "plt.legend((pos,neg),(\"positive_cases\",\"negative_cases\"))\n",
    "plt.title(\"MSE of positive and negative test cases\")\n",
    "plt.show()\n"
   ]
  },
  {
   "cell_type": "markdown",
   "metadata": {},
   "source": [
    "Again, a density plot does seem to show a difference in MSE between positive and negative cases, but more work will be necessary to determine if this is statistically significant."
   ]
  },
  {
   "cell_type": "code",
   "execution_count": 68,
   "metadata": {},
   "outputs": [
    {
     "data": {
      "text/plain": [
       "Text(0.5, 1.0, 'kernal density plot for MSE of negative and positive cases')"
      ]
     },
     "execution_count": 68,
     "metadata": {},
     "output_type": "execute_result"
    },
    {
     "data": {
      "image/png": "[encoded data removed]",
      "text/plain": [
       "<Figure size 432x288 with 1 Axes>"
      ]
     },
     "metadata": {
      "needs_background": "light"
     },
     "output_type": "display_data"
    }
   ],
   "source": [
    "import seaborn as sn\n",
    "sn.kdeplot(positive_mse_list, label=\"positive_cases\", color='b')\n",
    "sn.kdeplot(negative_mse_list, label=\"negative_cases\", color='r').set_title(\"kernal density plot for MSE of negative and positive cases\")\n"
   ]
  },
  {
   "cell_type": "code",
   "execution_count": null,
   "metadata": {},
   "outputs": [],
   "source": []
  }
 ],
 "metadata": {
  "kernelspec": {
   "display_name": "Python 3",
   "language": "python",
   "name": "python3"
  },
  "language_info": {
   "codemirror_mode": {
    "name": "ipython",
    "version": 3
   },
   "file_extension": ".py",
   "mimetype": "text/x-python",
   "name": "python",
   "nbconvert_exporter": "python",
   "pygments_lexer": "ipython3",
   "version": "3.6.7"
  }
 },
 "nbformat": 4,
 "nbformat_minor": 2
}
