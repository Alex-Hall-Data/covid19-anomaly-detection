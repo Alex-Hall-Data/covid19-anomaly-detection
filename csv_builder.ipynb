{
 "cells": [
  {
   "cell_type": "code",
   "execution_count": 72,
   "metadata": {},
   "outputs": [],
   "source": [
    "import pandas as pd\n",
    "import os"
   ]
  },
  {
   "cell_type": "code",
   "execution_count": 73,
   "metadata": {},
   "outputs": [],
   "source": [
    "df1path = 'D:\\\\data_science\\\\datasets\\\\coronahack\\\\source\\\\nih-chest-xrays.csv'\n",
    "df2path = 'D:\\\\data_science\\\\datasets\\\\coronahack\\\\source\\\\covid-chestxray-dataset.csv'\n",
    "\n",
    "img_path = 'D:\\\\data_science\\\\datasets\\\\coronahack\\\\source\\\\full-dataset'\n",
    "nih_path = 'D:\\\\data_science\\\\datasets\\\\coronahack\\\\source\\\\nih-dataset'\n",
    "\n",
    "df1 = pd.read_csv(df1path)\n",
    "df2 = pd.read_csv(df2path)"
   ]
  },
  {
   "cell_type": "code",
   "execution_count": 74,
   "metadata": {},
   "outputs": [],
   "source": [
    "nih_files = []\n",
    "\n",
    "for (dirpath, dirnames, filenames) in os.walk(nih_path):\n",
    "    nih_files.extend(filenames)\n",
    "    break\n",
    "    \n",
    "df1 = df1[df1['Image Index'].isin(nih_files)]\n",
    "df1=df1.rename(columns={\"Image Index\": \"filepath\", \"Patient Age\": \"age\", \"Patient Gender\": \"sex\", \"Finding Labels\": \"label\"})\n",
    "df1 = df1[df1.columns[df1.columns.isin(['filepath', 'age', 'sex','label'])]]"
   ]
  },
  {
   "cell_type": "code",
   "execution_count": 75,
   "metadata": {},
   "outputs": [],
   "source": [
    "df2['filepath'] = df2['filepath'].apply(lambda x: x.replace(x, os.path.basename(x)))\n"
   ]
  },
  {
   "cell_type": "code",
   "execution_count": 76,
   "metadata": {},
   "outputs": [],
   "source": [
    "df1 = df1.append(df2)"
   ]
  },
  {
   "cell_type": "code",
   "execution_count": 78,
   "metadata": {},
   "outputs": [],
   "source": [
    "df1.to_csv('full_dataset.csv')"
   ]
  },
  {
   "cell_type": "code",
   "execution_count": null,
   "metadata": {},
   "outputs": [],
   "source": []
  }
 ],
 "metadata": {
  "kernelspec": {
   "display_name": "Python 3",
   "language": "python",
   "name": "python3"
  },
  "language_info": {
   "codemirror_mode": {
    "name": "ipython",
    "version": 3
   },
   "file_extension": ".py",
   "mimetype": "text/x-python",
   "name": "python",
   "nbconvert_exporter": "python",
   "pygments_lexer": "ipython3",
   "version": "3.7.7"
  }
 },
 "nbformat": 4,
 "nbformat_minor": 4
}
